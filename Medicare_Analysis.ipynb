{
 "cells": [
  {
   "cell_type": "markdown",
   "metadata": {},
   "source": [
    "# Medicare Trend Analysis\n",
    "\n",
    "#### Medicare Enrollment by Contract, Plan and State\n",
    "\n",
    "Author: Miguel Santana\n",
    "\n",
    "#### Project Methodology\n",
    "Medicare is a form of health care available in the United States. As a government program, Medicare can become complicated as private insurance companies enter markets to offer additional coverage in a variety of ways. This project will observe trends in the health care industry with respect to private insurance companies and market trends as reported by CMS.gov for July of 2021.\n",
    "\n",
    "#### Data and Analytical Structure\n",
    "\n",
    "The dataset can be found [here.](https://www.cms.gov/Research-Statistics-Data-and-Systems/Statistics-Trends-and-Reports/MCRAdvPartDEnrolData/Monthly-Enrollment-by-Contract-Plan-State-County) The project analysis will follow the OSEMN framework: Obtain, Scrub, Explore, Model and Interpret."
   ]
  },
  {
   "cell_type": "code",
   "execution_count": 1,
   "metadata": {
    "ExecuteTime": {
     "end_time": "2021-07-19T19:48:42.332142Z",
     "start_time": "2021-07-19T19:48:41.541887Z"
    }
   },
   "outputs": [],
   "source": [
    "import pandas as pd\n",
    "import matplotlib.pyplot as plt\n",
    "import seaborn as sns\n",
    "import numpy as np\n",
    "pd.set_option('display.max_columns',50)"
   ]
  },
  {
   "cell_type": "markdown",
   "metadata": {},
   "source": [
    "# Obtain | Dataset"
   ]
  },
  {
   "cell_type": "code",
   "execution_count": 2,
   "metadata": {
    "ExecuteTime": {
     "end_time": "2021-07-19T19:48:44.019818Z",
     "start_time": "2021-07-19T19:48:42.333617Z"
    }
   },
   "outputs": [],
   "source": [
    "df = pd.read_csv('CPSC_Contract_Info_2021_07.csv',encoding='latin-1')\n",
    "df2 = pd.read_csv('CPSC_Enrollment_Info_2021_07.csv',encoding='latin-1')"
   ]
  },
  {
   "cell_type": "code",
   "execution_count": 3,
   "metadata": {
    "ExecuteTime": {
     "end_time": "2021-07-19T19:48:44.039226Z",
     "start_time": "2021-07-19T19:48:44.021975Z"
    }
   },
   "outputs": [
    {
     "data": {
      "text/plain": [
       "(7581, 12)"
      ]
     },
     "metadata": {},
     "output_type": "display_data"
    },
    {
     "data": {
      "text/html": [
       "<div>\n",
       "<style scoped>\n",
       "    .dataframe tbody tr th:only-of-type {\n",
       "        vertical-align: middle;\n",
       "    }\n",
       "\n",
       "    .dataframe tbody tr th {\n",
       "        vertical-align: top;\n",
       "    }\n",
       "\n",
       "    .dataframe thead th {\n",
       "        text-align: right;\n",
       "    }\n",
       "</style>\n",
       "<table border=\"1\" class=\"dataframe\">\n",
       "  <thead>\n",
       "    <tr style=\"text-align: right;\">\n",
       "      <th></th>\n",
       "      <th>Contract ID</th>\n",
       "      <th>Plan ID</th>\n",
       "      <th>Organization Type</th>\n",
       "      <th>Plan Type</th>\n",
       "      <th>Offers Part D</th>\n",
       "      <th>SNP Plan</th>\n",
       "      <th>EGHP</th>\n",
       "      <th>Organization Name</th>\n",
       "      <th>Organization Marketing Name</th>\n",
       "      <th>Plan Name</th>\n",
       "      <th>Parent Organization</th>\n",
       "      <th>Contract Effective Date</th>\n",
       "    </tr>\n",
       "  </thead>\n",
       "  <tbody>\n",
       "    <tr>\n",
       "      <th>0</th>\n",
       "      <td>90091</td>\n",
       "      <td>NaN</td>\n",
       "      <td>HCPP - 1833 Cost</td>\n",
       "      <td>HCPP - 1833 Cost</td>\n",
       "      <td>No</td>\n",
       "      <td>No</td>\n",
       "      <td>No</td>\n",
       "      <td>UNITED MINE WORKERS OF AMERICA HLTH &amp; RETIREMENT</td>\n",
       "      <td>United Mine Workers of America Health &amp; Retire...</td>\n",
       "      <td>NaN</td>\n",
       "      <td>UMWA Health and Retirement Funds</td>\n",
       "      <td>02/01/1974</td>\n",
       "    </tr>\n",
       "    <tr>\n",
       "      <th>1</th>\n",
       "      <td>E0654</td>\n",
       "      <td>801.0</td>\n",
       "      <td>Employer/Union Only Direct Contract PDP</td>\n",
       "      <td>Employer/Union Only Direct Contract PDP</td>\n",
       "      <td>Yes</td>\n",
       "      <td>No</td>\n",
       "      <td>Yes</td>\n",
       "      <td>IBT VOLUNTARY EMPLOYEE BENEFITS TRUST</td>\n",
       "      <td>TEAMStar Medicare Part D Prescription Drug Pro...</td>\n",
       "      <td>IBT Voluntary Employee Benefits Trust (Employe...</td>\n",
       "      <td>IBT Voluntary Employee Benefits Trust</td>\n",
       "      <td>01/01/2007</td>\n",
       "    </tr>\n",
       "  </tbody>\n",
       "</table>\n",
       "</div>"
      ],
      "text/plain": [
       "  Contract ID  Plan ID                        Organization Type  \\\n",
       "0       90091      NaN                         HCPP - 1833 Cost   \n",
       "1       E0654    801.0  Employer/Union Only Direct Contract PDP   \n",
       "\n",
       "                                 Plan Type Offers Part D SNP Plan EGHP  \\\n",
       "0                         HCPP - 1833 Cost            No       No   No   \n",
       "1  Employer/Union Only Direct Contract PDP           Yes       No  Yes   \n",
       "\n",
       "                                  Organization Name  \\\n",
       "0  UNITED MINE WORKERS OF AMERICA HLTH & RETIREMENT   \n",
       "1             IBT VOLUNTARY EMPLOYEE BENEFITS TRUST   \n",
       "\n",
       "                         Organization Marketing Name  \\\n",
       "0  United Mine Workers of America Health & Retire...   \n",
       "1  TEAMStar Medicare Part D Prescription Drug Pro...   \n",
       "\n",
       "                                           Plan Name  \\\n",
       "0                                                NaN   \n",
       "1  IBT Voluntary Employee Benefits Trust (Employe...   \n",
       "\n",
       "                     Parent Organization Contract Effective Date  \n",
       "0       UMWA Health and Retirement Funds              02/01/1974  \n",
       "1  IBT Voluntary Employee Benefits Trust              01/01/2007  "
      ]
     },
     "execution_count": 3,
     "metadata": {},
     "output_type": "execute_result"
    }
   ],
   "source": [
    "display(df.shape)\n",
    "df.head(2)"
   ]
  },
  {
   "cell_type": "code",
   "execution_count": 4,
   "metadata": {
    "ExecuteTime": {
     "end_time": "2021-07-19T19:48:44.050052Z",
     "start_time": "2021-07-19T19:48:44.041076Z"
    }
   },
   "outputs": [
    {
     "data": {
      "text/plain": [
       "(3340582, 7)"
      ]
     },
     "metadata": {},
     "output_type": "display_data"
    },
    {
     "data": {
      "text/html": [
       "<div>\n",
       "<style scoped>\n",
       "    .dataframe tbody tr th:only-of-type {\n",
       "        vertical-align: middle;\n",
       "    }\n",
       "\n",
       "    .dataframe tbody tr th {\n",
       "        vertical-align: top;\n",
       "    }\n",
       "\n",
       "    .dataframe thead th {\n",
       "        text-align: right;\n",
       "    }\n",
       "</style>\n",
       "<table border=\"1\" class=\"dataframe\">\n",
       "  <thead>\n",
       "    <tr style=\"text-align: right;\">\n",
       "      <th></th>\n",
       "      <th>Contract Number</th>\n",
       "      <th>Plan ID</th>\n",
       "      <th>SSA State County Code</th>\n",
       "      <th>FIPS State County Code</th>\n",
       "      <th>State</th>\n",
       "      <th>County</th>\n",
       "      <th>Enrollment</th>\n",
       "    </tr>\n",
       "  </thead>\n",
       "  <tbody>\n",
       "    <tr>\n",
       "      <th>0</th>\n",
       "      <td>E0654</td>\n",
       "      <td>801</td>\n",
       "      <td>2275</td>\n",
       "      <td>NaN</td>\n",
       "      <td>NaN</td>\n",
       "      <td>NaN</td>\n",
       "      <td>*</td>\n",
       "    </tr>\n",
       "    <tr>\n",
       "      <th>1</th>\n",
       "      <td>E0654</td>\n",
       "      <td>801</td>\n",
       "      <td>2198</td>\n",
       "      <td>NaN</td>\n",
       "      <td>NaN</td>\n",
       "      <td>NaN</td>\n",
       "      <td>*</td>\n",
       "    </tr>\n",
       "  </tbody>\n",
       "</table>\n",
       "</div>"
      ],
      "text/plain": [
       "  Contract Number  Plan ID  SSA State County Code  FIPS State County Code  \\\n",
       "0           E0654      801                   2275                     NaN   \n",
       "1           E0654      801                   2198                     NaN   \n",
       "\n",
       "  State County Enrollment  \n",
       "0   NaN    NaN          *  \n",
       "1   NaN    NaN          *  "
      ]
     },
     "execution_count": 4,
     "metadata": {},
     "output_type": "execute_result"
    }
   ],
   "source": [
    "display(df2.shape)\n",
    "df2.head(2)"
   ]
  },
  {
   "cell_type": "markdown",
   "metadata": {},
   "source": [
    "# Scrub | Data Cleaning\n",
    "Our analysis will focus on insurance carriers and the presence they have per state."
   ]
  },
  {
   "cell_type": "code",
   "execution_count": 5,
   "metadata": {
    "ExecuteTime": {
     "end_time": "2021-07-19T19:48:44.117570Z",
     "start_time": "2021-07-19T19:48:44.051308Z"
    }
   },
   "outputs": [],
   "source": [
    "df = df[['Contract ID','Plan ID','Plan Type','Offers Part D','SNP Plan',\n",
    "         'Organization Marketing Name','Plan Name','Parent Organization']]\n",
    "\n",
    "df2 = df2[['Contract Number','Plan ID','State','Enrollment']]"
   ]
  },
  {
   "cell_type": "markdown",
   "metadata": {},
   "source": [
    "#### an asterisk is used to represent less than 10 enrollments in a specific area. While this update may inflate the numbers, a value of 7 will replace asterisk values prior to grouping. "
   ]
  },
  {
   "cell_type": "code",
   "execution_count": 6,
   "metadata": {
    "ExecuteTime": {
     "end_time": "2021-07-19T19:48:44.555497Z",
     "start_time": "2021-07-19T19:48:44.119005Z"
    }
   },
   "outputs": [],
   "source": [
    "df2['Enrollment'] = df2['Enrollment'].replace('*','5').astype(int)"
   ]
  },
  {
   "cell_type": "code",
   "execution_count": 7,
   "metadata": {
    "ExecuteTime": {
     "end_time": "2021-07-19T19:48:45.023248Z",
     "start_time": "2021-07-19T19:48:44.557371Z"
    }
   },
   "outputs": [],
   "source": [
    "df2 = df2.groupby(by=['Contract Number','Plan ID','State']).sum().reset_index()"
   ]
  },
  {
   "cell_type": "code",
   "execution_count": 8,
   "metadata": {
    "ExecuteTime": {
     "end_time": "2021-07-19T19:48:45.030821Z",
     "start_time": "2021-07-19T19:48:45.027305Z"
    }
   },
   "outputs": [],
   "source": [
    "# rename columns to merge tables\n",
    "df.rename(columns={'Contract ID':'Contract','Plan ID':'Plan'},inplace=True)\n",
    "df2.rename(columns={'Contract Number':'Contract','Plan ID':'Plan'},inplace=True)"
   ]
  },
  {
   "cell_type": "markdown",
   "metadata": {},
   "source": [
    "#### Null Values"
   ]
  },
  {
   "cell_type": "code",
   "execution_count": 9,
   "metadata": {
    "ExecuteTime": {
     "end_time": "2021-07-19T19:48:45.052339Z",
     "start_time": "2021-07-19T19:48:45.033876Z"
    }
   },
   "outputs": [
    {
     "data": {
      "text/plain": [
       "Contract                       0\n",
       "Plan                           8\n",
       "Plan Type                      0\n",
       "Offers Part D                  0\n",
       "SNP Plan                       0\n",
       "Organization Marketing Name    0\n",
       "Plan Name                      8\n",
       "Parent Organization            0\n",
       "dtype: int64"
      ]
     },
     "metadata": {},
     "output_type": "display_data"
    },
    {
     "data": {
      "text/plain": [
       "Contract      0\n",
       "Plan          0\n",
       "State         0\n",
       "Enrollment    0\n",
       "dtype: int64"
      ]
     },
     "execution_count": 9,
     "metadata": {},
     "output_type": "execute_result"
    }
   ],
   "source": [
    "# null values\n",
    "display(df.isnull().sum())\n",
    "df2.isnull().sum()"
   ]
  },
  {
   "cell_type": "code",
   "execution_count": 10,
   "metadata": {
    "ExecuteTime": {
     "end_time": "2021-07-19T19:48:45.068280Z",
     "start_time": "2021-07-19T19:48:45.054150Z"
    }
   },
   "outputs": [],
   "source": [
    "df = df.dropna()\n",
    "df['Plan'] = df['Plan'].astype(float).astype(int)"
   ]
  },
  {
   "cell_type": "markdown",
   "metadata": {},
   "source": [
    "#### Merge Tables"
   ]
  },
  {
   "cell_type": "code",
   "execution_count": 11,
   "metadata": {
    "ExecuteTime": {
     "end_time": "2021-07-19T19:48:45.097434Z",
     "start_time": "2021-07-19T19:48:45.070490Z"
    }
   },
   "outputs": [],
   "source": [
    "dff = pd.merge(df2,df,how='outer',on=['Contract','Plan'])"
   ]
  },
  {
   "cell_type": "code",
   "execution_count": 12,
   "metadata": {
    "ExecuteTime": {
     "end_time": "2021-07-19T19:48:45.110707Z",
     "start_time": "2021-07-19T19:48:45.099265Z"
    }
   },
   "outputs": [
    {
     "data": {
      "text/plain": [
       "(101016, 10)"
      ]
     },
     "metadata": {},
     "output_type": "display_data"
    },
    {
     "data": {
      "text/html": [
       "<div>\n",
       "<style scoped>\n",
       "    .dataframe tbody tr th:only-of-type {\n",
       "        vertical-align: middle;\n",
       "    }\n",
       "\n",
       "    .dataframe tbody tr th {\n",
       "        vertical-align: top;\n",
       "    }\n",
       "\n",
       "    .dataframe thead th {\n",
       "        text-align: right;\n",
       "    }\n",
       "</style>\n",
       "<table border=\"1\" class=\"dataframe\">\n",
       "  <thead>\n",
       "    <tr style=\"text-align: right;\">\n",
       "      <th></th>\n",
       "      <th>Contract</th>\n",
       "      <th>Plan</th>\n",
       "      <th>State</th>\n",
       "      <th>Enrollment</th>\n",
       "      <th>Plan Type</th>\n",
       "      <th>Offers Part D</th>\n",
       "      <th>SNP Plan</th>\n",
       "      <th>Organization Marketing Name</th>\n",
       "      <th>Plan Name</th>\n",
       "      <th>Parent Organization</th>\n",
       "    </tr>\n",
       "  </thead>\n",
       "  <tbody>\n",
       "    <tr>\n",
       "      <th>0</th>\n",
       "      <td>E0654</td>\n",
       "      <td>801</td>\n",
       "      <td>AK</td>\n",
       "      <td>420</td>\n",
       "      <td>Employer/Union Only Direct Contract PDP</td>\n",
       "      <td>Yes</td>\n",
       "      <td>No</td>\n",
       "      <td>TEAMStar Medicare Part D Prescription Drug Pro...</td>\n",
       "      <td>IBT Voluntary Employee Benefits Trust (Employe...</td>\n",
       "      <td>IBT Voluntary Employee Benefits Trust</td>\n",
       "    </tr>\n",
       "  </tbody>\n",
       "</table>\n",
       "</div>"
      ],
      "text/plain": [
       "  Contract  Plan State  Enrollment                                Plan Type  \\\n",
       "0    E0654   801    AK         420  Employer/Union Only Direct Contract PDP   \n",
       "\n",
       "  Offers Part D SNP Plan                        Organization Marketing Name  \\\n",
       "0           Yes       No  TEAMStar Medicare Part D Prescription Drug Pro...   \n",
       "\n",
       "                                           Plan Name  \\\n",
       "0  IBT Voluntary Employee Benefits Trust (Employe...   \n",
       "\n",
       "                     Parent Organization  \n",
       "0  IBT Voluntary Employee Benefits Trust  "
      ]
     },
     "execution_count": 12,
     "metadata": {},
     "output_type": "execute_result"
    }
   ],
   "source": [
    "display(dff.shape)\n",
    "dff.head(1)"
   ]
  },
  {
   "cell_type": "markdown",
   "metadata": {},
   "source": [
    "# Exploratory Data Analysis\n",
    "## Most Populous Medicare Enrollment States (July 2021)"
   ]
  },
  {
   "cell_type": "code",
   "execution_count": 13,
   "metadata": {
    "ExecuteTime": {
     "end_time": "2021-07-19T19:48:45.122573Z",
     "start_time": "2021-07-19T19:48:45.112612Z"
    }
   },
   "outputs": [],
   "source": [
    "ten = dff.groupby(by='State')['Enrollment'].sum().sort_values(ascending=False)[:10].to_frame().reset_index()"
   ]
  },
  {
   "cell_type": "code",
   "execution_count": 35,
   "metadata": {
    "ExecuteTime": {
     "end_time": "2021-07-19T20:46:05.636265Z",
     "start_time": "2021-07-19T20:46:05.318883Z"
    }
   },
   "outputs": [
    {
     "data": {
      "image/png": "[encoded data removed]",
      "text/plain": [
       "<Figure size 864x576 with 1 Axes>"
      ]
     },
     "metadata": {
      "needs_background": "light"
     },
     "output_type": "display_data"
    }
   ],
   "source": [
    "fig, ax = plt.subplots(figsize=(12,8))\n",
    "ax = sns.barplot(data=ten,x='Enrollment',y='State',palette='viridis');\n",
    "plt.xticks(rotation=0,horizontalalignment='center',fontsize=11);\n",
    "plt.gcf().axes[0].xaxis.get_major_formatter().set_scientific(False)\n",
    "plt.xlabel(xlabel='Enrollments',fontsize=14)\n",
    "plt.ylabel(ylabel='')\n",
    "plt.title(label='Active Enrollments by State | Top 10',fontsize=16);\n",
    "# fig.savefig('enrollmentsbystate.jpg',dpi=200,bbox_inches='tight')"
   ]
  },
  {
   "cell_type": "markdown",
   "metadata": {},
   "source": [
    "## Most Medicare Enrollments Overall (July 2021)"
   ]
  },
  {
   "cell_type": "code",
   "execution_count": 15,
   "metadata": {
    "ExecuteTime": {
     "end_time": "2021-07-19T19:48:45.320871Z",
     "start_time": "2021-07-19T19:48:45.309758Z"
    }
   },
   "outputs": [],
   "source": [
    "tenco = dff.groupby(by='Parent Organization')['Enrollment'].sum().sort_values(ascending=False)[:10].to_frame().reset_index()"
   ]
  },
  {
   "cell_type": "code",
   "execution_count": 36,
   "metadata": {
    "ExecuteTime": {
     "end_time": "2021-07-19T20:46:23.213767Z",
     "start_time": "2021-07-19T20:46:22.777387Z"
    }
   },
   "outputs": [
    {
     "data": {
      "image/png": "[encoded data removed]",
      "text/plain": [
       "<Figure size 864x576 with 1 Axes>"
      ]
     },
     "metadata": {
      "needs_background": "light"
     },
     "output_type": "display_data"
    }
   ],
   "source": [
    "fig, ax = plt.subplots(figsize=(12,8))\n",
    "ax = sns.barplot(data=tenco,x='Enrollment',y='Parent Organization',palette='mako');\n",
    "plt.xticks(rotation=0,horizontalalignment='center',fontsize=11);\n",
    "plt.gcf().axes[0].xaxis.get_major_formatter().set_scientific(False)\n",
    "plt.xlabel(xlabel='Enrollments',fontsize=14)\n",
    "plt.ylabel(ylabel='')\n",
    "plt.title(label='Active Medicare Enrollments Overall | Top 10',fontsize=16);\n",
    "# fig.savefig('enrollmentsbycarrier.jpg',dpi=200,bbox_inches='tight')"
   ]
  },
  {
   "cell_type": "markdown",
   "metadata": {
    "ExecuteTime": {
     "end_time": "2021-07-19T18:56:53.519836Z",
     "start_time": "2021-07-19T18:56:53.506705Z"
    }
   },
   "source": [
    "#### Top 5 Carriers Per State / Territory"
   ]
  },
  {
   "cell_type": "code",
   "execution_count": 17,
   "metadata": {
    "ExecuteTime": {
     "end_time": "2021-07-19T19:48:46.003687Z",
     "start_time": "2021-07-19T19:48:45.520460Z"
    }
   },
   "outputs": [],
   "source": [
    "states = ['AK', 'AL', 'AR', 'AZ', 'CA', 'CO', 'CT', 'DC', 'DE', 'FL', 'GA', \n",
    "          'GU', 'HI', 'IA', 'ID', 'IL', 'IN', 'KS', 'KY', 'LA', 'MA', 'MD', \n",
    "          'ME', 'MI', 'MN', 'MO', 'MS', 'MT', 'NC', 'ND', 'NE', 'NH', 'NJ', \n",
    "          'NM', 'NV', 'NY', 'OH', 'OK', 'OR', 'PA', 'PR', 'RI', 'SC', 'SD', \n",
    "          'TN', 'TX', 'UT', 'VA', 'VI', 'VT', 'WA', 'WI', 'WV', 'WY', 'AS', 'MP']\n",
    "\n",
    "statelist = []\n",
    "for state in states:\n",
    "    extralist = dff[dff['State'] == state].groupby(by='Parent Organization')['Enrollment'].sum().sort_values(ascending=False).reset_index()[:5].values.tolist()\n",
    "    extralist.insert(0,state)\n",
    "    statelist.append(extralist)"
   ]
  },
  {
   "cell_type": "code",
   "execution_count": 18,
   "metadata": {
    "ExecuteTime": {
     "end_time": "2021-07-19T19:48:46.010327Z",
     "start_time": "2021-07-19T19:48:46.005251Z"
    }
   },
   "outputs": [],
   "source": [
    "df5 = pd.DataFrame(statelist)\n",
    "df5.rename(columns={0:'State'},inplace=True)"
   ]
  },
  {
   "cell_type": "code",
   "execution_count": 19,
   "metadata": {
    "ExecuteTime": {
     "end_time": "2021-07-19T19:48:46.017347Z",
     "start_time": "2021-07-19T19:48:46.011642Z"
    }
   },
   "outputs": [],
   "source": [
    "# # replacing preparer values with names\n",
    "# dictvals = {'[':'',']':'','.':''}\n",
    "\n",
    "\n",
    "# prepcols = [1,2,3,4,5]\n",
    "# for col in prepcols:\n",
    "#     df5[col] = df5[col].replace(dictvals)#.fillna()"
   ]
  },
  {
   "cell_type": "code",
   "execution_count": 22,
   "metadata": {
    "ExecuteTime": {
     "end_time": "2021-07-19T19:51:21.244878Z",
     "start_time": "2021-07-19T19:51:21.239959Z"
    }
   },
   "outputs": [],
   "source": [
    "# # exporting for Tableau Public\n",
    "# df5.to_csv('top5bystate.csv')"
   ]
  },
  {
   "cell_type": "code",
   "execution_count": 34,
   "metadata": {
    "ExecuteTime": {
     "end_time": "2021-07-19T20:34:53.472929Z",
     "start_time": "2021-07-19T20:34:53.467692Z"
    }
   },
   "outputs": [
    {
     "data": {
      "text/html": [
       "<div class='tableauPlaceholder' id='viz1626726797393' style='position: relative'><noscript><a href='#'><img alt=' ' src='https:&#47;&#47;public.tableau.com&#47;static&#47;images&#47;Me&#47;MedicareEnrollmentbyParentCompany2021&#47;Sheet1&#47;1_rss.png' style='border: none' /></a></noscript><object class='tableauViz'  style='display:none;'><param name='host_url' value='https%3A%2F%2Fpublic.tableau.com%2F' /> <param name='embed_code_version' value='3' /> <param name='path' value='views&#47;MedicareEnrollmentbyParentCompany2021&#47;Sheet1?:language=en-US&amp;:embed=true&amp;publish=yes' /> <param name='toolbar' value='yes' /><param name='static_image' value='https:&#47;&#47;public.tableau.com&#47;static&#47;images&#47;Me&#47;MedicareEnrollmentbyParentCompany2021&#47;Sheet1&#47;1.png' /> <param name='animate_transition' value='yes' /><param name='display_static_image' value='yes' /><param name='display_spinner' value='yes' /><param name='display_overlay' value='yes' /><param name='display_count' value='yes' /><param name='language' value='en-US' /><param name='filter' value='publish=yes' /></object></div>                <script type='text/javascript'>                    var divElement = document.getElementById('viz1626726797393');                    var vizElement = divElement.getElementsByTagName('object')[0];                    vizElement.style.width='100%';vizElement.style.height=(divElement.offsetWidth*0.75)+'px';                    var scriptElement = document.createElement('script');                    scriptElement.src = 'https://public.tableau.com/javascripts/api/viz_v1.js';                    vizElement.parentNode.insertBefore(scriptElement, vizElement);                </script>\n"
      ],
      "text/plain": [
       "<IPython.core.display.HTML object>"
      ]
     },
     "metadata": {},
     "output_type": "display_data"
    }
   ],
   "source": [
    "%%HTML\n",
    "<div class='tableauPlaceholder' id='viz1626726797393' style='position: relative'><noscript><a href='#'><img alt=' ' src='https:&#47;&#47;public.tableau.com&#47;static&#47;images&#47;Me&#47;MedicareEnrollmentbyParentCompany2021&#47;Sheet1&#47;1_rss.png' style='border: none' /></a></noscript><object class='tableauViz'  style='display:none;'><param name='host_url' value='https%3A%2F%2Fpublic.tableau.com%2F' /> <param name='embed_code_version' value='3' /> <param name='path' value='views&#47;MedicareEnrollmentbyParentCompany2021&#47;Sheet1?:language=en-US&amp;:embed=true&amp;publish=yes' /> <param name='toolbar' value='yes' /><param name='static_image' value='https:&#47;&#47;public.tableau.com&#47;static&#47;images&#47;Me&#47;MedicareEnrollmentbyParentCompany2021&#47;Sheet1&#47;1.png' /> <param name='animate_transition' value='yes' /><param name='display_static_image' value='yes' /><param name='display_spinner' value='yes' /><param name='display_overlay' value='yes' /><param name='display_count' value='yes' /><param name='language' value='en-US' /><param name='filter' value='publish=yes' /></object></div>                <script type='text/javascript'>                    var divElement = document.getElementById('viz1626726797393');                    var vizElement = divElement.getElementsByTagName('object')[0];                    vizElement.style.width='100%';vizElement.style.height=(divElement.offsetWidth*0.75)+'px';                    var scriptElement = document.createElement('script');                    scriptElement.src = 'https://public.tableau.com/javascripts/api/viz_v1.js';                    vizElement.parentNode.insertBefore(scriptElement, vizElement);                </script>"
   ]
  },
  {
   "cell_type": "markdown",
   "metadata": {},
   "source": [
    "# Future Work\n",
    "Future work should include a deeper analysis into various products including Medicare Advantage, Prescription Drug plans and the various benefits that each plan offers. It's important to note that Medicare Supplement products are not included in this data exploration due to the fact that companies don't report publicly on these products. \n",
    "\n",
    "For any additional questions, please reach out via email at santana2.miguel@gmail.com or on [LinkedIn.](https://www.linkedin.com/in/miguel-angel-santana-ii-mba-51467276/)"
   ]
  }
 ],
 "metadata": {
  "kernelspec": {
   "display_name": "Python [conda env:learn-env] *",
   "language": "python",
   "name": "conda-env-learn-env-py"
  },
  "language_info": {
   "codemirror_mode": {
    "name": "ipython",
    "version": 3
   },
   "file_extension": ".py",
   "mimetype": "text/x-python",
   "name": "python",
   "nbconvert_exporter": "python",
   "pygments_lexer": "ipython3",
   "version": "3.6.13"
  },
  "toc": {
   "base_numbering": 1,
   "nav_menu": {},
   "number_sections": true,
   "sideBar": true,
   "skip_h1_title": false,
   "title_cell": "Table of Contents",
   "title_sidebar": "Contents",
   "toc_cell": false,
   "toc_position": {
    "height": "calc(100% - 180px)",
    "left": "10px",
    "top": "150px",
    "width": "165px"
   },
   "toc_section_display": true,
   "toc_window_display": true
  }
 },
 "nbformat": 4,
 "nbformat_minor": 2
}
